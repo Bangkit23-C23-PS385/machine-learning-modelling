{
  "nbformat": 4,
  "nbformat_minor": 0,
  "metadata": {
    "colab": {
      "provenance": []
    },
    "kernelspec": {
      "name": "python3",
      "display_name": "Python 3"
    },
    "language_info": {
      "name": "python"
    }
  },
  "cells": [
    {
      "cell_type": "code",
      "execution_count": null,
      "metadata": {
        "id": "6Qihioiqq-QZ"
      },
      "outputs": [],
      "source": [
        "def BodyMassIndex(weight, height):\n",
        "  height = height/100\n",
        "  bmi = round(weight / (height**2), 2)\n",
        "\n",
        "  if bmi < 18.5:\n",
        "    status  = \"Berat badan kurang (underweight)\"\n",
        "\n",
        "  elif bmi < 22.9:\n",
        "    status = \"Berat badan normal (normal weight)\"\n",
        "\n",
        "  elif bmi < 24.9:\n",
        "    status = \"Kelebihan berat badan (overweight)\"\n",
        "\n",
        "  elif bmi < 29.9:\n",
        "    status = \"Obesitas I (obese class I)\"\n",
        "\n",
        "  else :\n",
        "    status = \"Obesitas II (obese class II)\"\n",
        "\n",
        "  return bmi, status"
      ]
    }
  ]
}